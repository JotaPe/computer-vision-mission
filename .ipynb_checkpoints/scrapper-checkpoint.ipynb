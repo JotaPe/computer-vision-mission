{
 "cells": [
  {
   "cell_type": "code",
   "execution_count": 10,
   "metadata": {},
   "outputs": [],
   "source": [
    "import urllib3, os, shutil\n",
    "from bs4 import BeautifulSoup\n",
    "\n",
    "urllib3.disable_warnings()\n",
    "http = urllib3.PoolManager(cert_reqs=\"CERT_NONE\")\n",
    "\n",
    "url_tam = \"https://www.airliners.net/search?airline=54645&photoCategory=23&sortBy=dateAccepted&sortOrder=desc&perPage=36&display=detail\"\n",
    "url_united_airlines = \"https://www.airliners.net/search?airline=58361&photoCategory=23&sortBy=dateAccepted&sortOrder=desc&perPage=36&display=detail\"\n",
    "url_delta = \"https://www.airliners.net/search?airline=18647&photoCategory=23&sortBy=dateAccepted&sortOrder=desc&perPage=36&display=detail\"\n",
    "\n",
    "page_tam = http.request(\"GET\", url_tam)\n",
    "page_united_airlines = http.request(\"GET\", url_united_airlines)\n",
    "page_delta = http.request(\"GET\", url_delta)\n",
    "\n",
    "soup_tam = BeautifulSoup(page_tam.data, 'html.parser')\n",
    "\n",
    "images_tam = soup_tam.findAll('img', {'class': 'lazy-load'})\n",
    "\n",
    "i = 0\n",
    "for image_tam in images_tam:\n",
    "    i += 1\n",
    "    image_tam_url = image_tam['src']\n",
    "    with http.request('GET', image_tam_url, preload_content=False) as res, open('data/train/tam_%i.jpeg' %i, 'wb') as out_file:\n",
    "        shutil.copyfileobj(res, out_file)"
   ]
  },
  {
   "cell_type": "code",
   "execution_count": 11,
   "metadata": {},
   "outputs": [],
   "source": [
    "def airliner_scrapper(url, airliner_name):\n",
    "    print(\"Starting scrapper\")\n",
    "    page = http.request(\"GET\", url)\n",
    "    soup = BeautifulSoup(page.data, \"html.parser\")\n",
    "    images = soup.findAll(\"img\", {\"class\": \"lazy-load\"})\n",
    "    i = 0\n",
    "    for image in images:\n",
    "        i += 1\n",
    "        image_url = image['src']\n",
    "        with http.request(\"GET\", image_url, preload_content=False) as res, open(\"data/train/%(airliner)-%(id_number)\" % {\"airliner\": airliner_name, \"id_number\": i}, \"wb\") as out_file:\n",
    "            shutil.copyfileobj(res, out_file)"
   ]
  },
  {
   "cell_type": "code",
   "execution_count": 12,
   "metadata": {},
   "outputs": [
    {
     "name": "stdout",
     "output_type": "stream",
     "text": [
      "Starting scrapper\n"
     ]
    },
    {
     "ename": "ValueError",
     "evalue": "unsupported format character '_' (0x5f) at index 22",
     "output_type": "error",
     "traceback": [
      "\u001b[0;31m---------------------------------------------------------------------------\u001b[0m",
      "\u001b[0;31mValueError\u001b[0m                                Traceback (most recent call last)",
      "\u001b[0;32m<ipython-input-12-1c5547fadfc5>\u001b[0m in \u001b[0;36m<module>\u001b[0;34m\u001b[0m\n\u001b[0;32m----> 1\u001b[0;31m \u001b[0mairliner_scrapper\u001b[0m\u001b[0;34m(\u001b[0m\u001b[0;34m\"https://www.airliners.net/search?airline=54645&photoCategory=23&sortBy=dateAccepted&sortOrder=desc&perPage=36&display=detail\"\u001b[0m\u001b[0;34m,\u001b[0m \u001b[0;34m\"tam\"\u001b[0m\u001b[0;34m)\u001b[0m\u001b[0;34m\u001b[0m\u001b[0;34m\u001b[0m\u001b[0m\n\u001b[0m",
      "\u001b[0;32m<ipython-input-11-d196cb22eaf6>\u001b[0m in \u001b[0;36mairliner_scrapper\u001b[0;34m(url, airliner_name)\u001b[0m\n\u001b[1;32m      8\u001b[0m         \u001b[0mi\u001b[0m \u001b[0;34m+=\u001b[0m \u001b[0;36m1\u001b[0m\u001b[0;34m\u001b[0m\u001b[0;34m\u001b[0m\u001b[0m\n\u001b[1;32m      9\u001b[0m         \u001b[0mimage_url\u001b[0m \u001b[0;34m=\u001b[0m \u001b[0mimage\u001b[0m\u001b[0;34m[\u001b[0m\u001b[0;34m'src'\u001b[0m\u001b[0;34m]\u001b[0m\u001b[0;34m\u001b[0m\u001b[0;34m\u001b[0m\u001b[0m\n\u001b[0;32m---> 10\u001b[0;31m         \u001b[0;32mwith\u001b[0m \u001b[0mhttp\u001b[0m\u001b[0;34m.\u001b[0m\u001b[0mrequest\u001b[0m\u001b[0;34m(\u001b[0m\u001b[0;34m\"GET\"\u001b[0m\u001b[0;34m,\u001b[0m \u001b[0mimage_url\u001b[0m\u001b[0;34m,\u001b[0m \u001b[0mpreload_content\u001b[0m\u001b[0;34m=\u001b[0m\u001b[0;32mFalse\u001b[0m\u001b[0;34m)\u001b[0m \u001b[0;32mas\u001b[0m \u001b[0mres\u001b[0m\u001b[0;34m,\u001b[0m \u001b[0mopen\u001b[0m\u001b[0;34m(\u001b[0m\u001b[0;34m\"data/train/%(airliner)_%(id_number)\"\u001b[0m \u001b[0;34m%\u001b[0m \u001b[0;34m{\u001b[0m\u001b[0;34m\"airliner\"\u001b[0m\u001b[0;34m:\u001b[0m \u001b[0mairliner_name\u001b[0m\u001b[0;34m,\u001b[0m \u001b[0;34m\"id_number\"\u001b[0m\u001b[0;34m:\u001b[0m \u001b[0mi\u001b[0m\u001b[0;34m}\u001b[0m\u001b[0;34m,\u001b[0m \u001b[0;34m\"wb\"\u001b[0m\u001b[0;34m)\u001b[0m \u001b[0;32mas\u001b[0m \u001b[0mout_file\u001b[0m\u001b[0;34m:\u001b[0m\u001b[0;34m\u001b[0m\u001b[0;34m\u001b[0m\u001b[0m\n\u001b[0m\u001b[1;32m     11\u001b[0m             \u001b[0mshutil\u001b[0m\u001b[0;34m.\u001b[0m\u001b[0mcopyfileobj\u001b[0m\u001b[0;34m(\u001b[0m\u001b[0mres\u001b[0m\u001b[0;34m,\u001b[0m \u001b[0mout_file\u001b[0m\u001b[0;34m)\u001b[0m\u001b[0;34m\u001b[0m\u001b[0;34m\u001b[0m\u001b[0m\n",
      "\u001b[0;31mValueError\u001b[0m: unsupported format character '_' (0x5f) at index 22"
     ]
    }
   ],
   "source": [
    "airliner_scrapper(\"https://www.airliners.net/search?airline=54645&photoCategory=23&sortBy=dateAccepted&sortOrder=desc&perPage=36&display=detail\", \"tam\")"
   ]
  },
  {
   "cell_type": "code",
   "execution_count": null,
   "metadata": {},
   "outputs": [],
   "source": []
  }
 ],
 "metadata": {
  "kernelspec": {
   "display_name": "Python 3",
   "language": "python",
   "name": "python3"
  },
  "language_info": {
   "codemirror_mode": {
    "name": "ipython",
    "version": 3
   },
   "file_extension": ".py",
   "mimetype": "text/x-python",
   "name": "python",
   "nbconvert_exporter": "python",
   "pygments_lexer": "ipython3",
   "version": "3.7.3"
  }
 },
 "nbformat": 4,
 "nbformat_minor": 2
}
